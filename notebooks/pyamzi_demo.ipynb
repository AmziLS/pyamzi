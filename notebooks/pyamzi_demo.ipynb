{
 "cells": [
  {
   "cell_type": "markdown",
   "metadata": {},
   "source": [
    "# A Python bind to Amzi! Logic Server"
   ]
  },
  {
   "cell_type": "markdown",
   "metadata": {},
   "source": [
    "Load the pyamzi magics first:"
   ]
  },
  {
   "cell_type": "code",
   "execution_count": 1,
   "metadata": {
    "collapsed": false
   },
   "outputs": [],
   "source": [
    "%load_ext pyamzi"
   ]
  },
  {
   "cell_type": "markdown",
   "metadata": {},
   "source": [
    "## Basic usage"
   ]
  },
  {
   "cell_type": "markdown",
   "metadata": {},
   "source": [
    "Add some rules:"
   ]
  },
  {
   "cell_type": "code",
   "execution_count": 6,
   "metadata": {
    "collapsed": false
   },
   "outputs": [],
   "source": [
    "%%reconsult\n",
    "father(a, b).\n",
    "father(a, c).\n",
    "father(b, d).\n",
    "grandfather(X, Y):- father(X, Z), father(Z, Y)."
   ]
  },
  {
   "cell_type": "markdown",
   "metadata": {},
   "source": [
    "query one result:"
   ]
  },
  {
   "cell_type": "code",
   "execution_count": 7,
   "metadata": {
    "collapsed": false
   },
   "outputs": [
    {
     "data": {
      "text/plain": [
       "{'X': 'a', 'Y': 'b'}"
      ]
     },
     "execution_count": 7,
     "metadata": {},
     "output_type": "execute_result"
    }
   ],
   "source": [
    "%query_one father(X, Y)"
   ]
  },
  {
   "cell_type": "markdown",
   "metadata": {},
   "source": [
    "query all results:"
   ]
  },
  {
   "cell_type": "code",
   "execution_count": 8,
   "metadata": {
    "collapsed": false
   },
   "outputs": [
    {
     "data": {
      "text/plain": [
       "[{'X': 'a', 'Y': 'b'}, {'X': 'a', 'Y': 'c'}, {'X': 'b', 'Y': 'd'}]"
      ]
     },
     "execution_count": 8,
     "metadata": {},
     "output_type": "execute_result"
    }
   ],
   "source": [
    "%query_all father(X, Y)"
   ]
  },
  {
   "cell_type": "code",
   "execution_count": 5,
   "metadata": {
    "collapsed": false
   },
   "outputs": [
    {
     "data": {
      "text/plain": [
       "[{'X': 'a', 'Y': 'd'}]"
      ]
     },
     "execution_count": 5,
     "metadata": {},
     "output_type": "execute_result"
    }
   ],
   "source": [
    "%query_all grandfather(X, Y)"
   ]
  },
  {
   "cell_type": "markdown",
   "metadata": {},
   "source": [
    "## Call Python Functions"
   ]
  },
  {
   "cell_type": "markdown",
   "metadata": {},
   "source": [
    "* `pygetobj(funcname, args, Result)`: call the Python function `funcname(*args)` and bind `Result` to the return Python object, `Result` is a `pADDR` type in Prolog that points to the Python object.\n",
    "\n",
    "* `pydelobj(Object)`: Release the Object pointer.\n",
    "\n",
    "* `pybind(funcname, args, Result)`: call the Python function `funcname(*args)` and  convert the return value to Prolog term, and bind `Result` to it.\n",
    "\n",
    "* `pytrue(funcname, args)`: call the Python function `funcname(*args)` and return the boolean result, if the result is `False`, it will cause fail.\n",
    "\n",
    "> If `args` is not a list, it will pass to the function directly."
   ]
  },
  {
   "cell_type": "code",
   "execution_count": 11,
   "metadata": {
    "collapsed": false
   },
   "outputs": [],
   "source": [
    "%%reconsult\n",
    "iter(X):-\n",
    "    pybind(next, X, Y),\n",
    "    write(Y), nl,\n",
    "    iter(X).\n",
    "iter(_).\n",
    "\n",
    "test_iter(X, Y):-\n",
    "    pygetobj(range, [5, 10], D),\n",
    "    pygetobj(iter, D, E),\n",
    "    iter(E),\n",
    "    pydelobj(D),\n",
    "    pybind(random, [], X),\n",
    "    pybind(add, [X, 1], Y)."
   ]
  },
  {
   "cell_type": "code",
   "execution_count": 12,
   "metadata": {
    "collapsed": false
   },
   "outputs": [
    {
     "name": "stdout",
     "output_type": "stream",
     "text": [
      "5\n",
      "6\n",
      "7\n",
      "8\n",
      "9\n"
     ]
    },
    {
     "data": {
      "text/plain": [
       "(True, test_iter(0.788361, 1.78836))"
      ]
     },
     "execution_count": 12,
     "metadata": {},
     "output_type": "execute_result"
    }
   ],
   "source": [
    "%call_term test_iter(X, Y)"
   ]
  }
 ],
 "metadata": {
  "anaconda-cloud": {},
  "kernelspec": {
   "display_name": "Python [default]",
   "language": "python",
   "name": "python3"
  },
  "language_info": {
   "codemirror_mode": {
    "name": "ipython",
    "version": 3
   },
   "file_extension": ".py",
   "mimetype": "text/x-python",
   "name": "python",
   "nbconvert_exporter": "python",
   "pygments_lexer": "ipython3",
   "version": "3.5.1"
  }
 },
 "nbformat": 4,
 "nbformat_minor": 0
}
